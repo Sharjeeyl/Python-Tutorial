{
  "nbformat": 4,
  "nbformat_minor": 0,
  "metadata": {
    "colab": {
      "provenance": [],
      "authorship_tag": "ABX9TyN/6pCcY5NfiWIquik/CjN+",
      "include_colab_link": true
    },
    "kernelspec": {
      "name": "python3",
      "display_name": "Python 3"
    },
    "language_info": {
      "name": "python"
    }
  },
  "cells": [
    {
      "cell_type": "markdown",
      "metadata": {
        "id": "view-in-github",
        "colab_type": "text"
      },
      "source": [
        "<a href=\"https://colab.research.google.com/github/Sharjeeyl/Python-Tutorial/blob/main/user_input_Age_script.ipynb\" target=\"_parent\"><img src=\"https://colab.research.google.com/assets/colab-badge.svg\" alt=\"Open In Colab\"/></a>"
      ]
    },
    {
      "cell_type": "code",
      "execution_count": 1,
      "metadata": {
        "colab": {
          "base_uri": "https://localhost:8080/"
        },
        "id": "g6Sh4EcJqMgH",
        "outputId": "51987b30-7d55-462c-8ca9-8cadcf0f02ba"
      },
      "outputs": [
        {
          "output_type": "stream",
          "name": "stdout",
          "text": [
            "Enter your name: 22\n",
            "Hello, 22!\n",
            "Enter your age: 22\n",
            "In 10 years, you'll be 32 years old.\n"
          ]
        }
      ],
      "source": [
        "# Taking User Input in Python\n",
        "user_input = input(\"Enter your name: \")\n",
        "print(\"Hello, \" + user_input + \"!\")\n",
        "age = input(\"Enter your age: \")\n",
        "age = int(age)  # Convert the input to an integer\n",
        "print(\"In 10 years, you'll be\", age + 10, \"years old.\")\n"
      ]
    }
  ]
}